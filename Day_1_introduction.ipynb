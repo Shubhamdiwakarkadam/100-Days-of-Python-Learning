{
  "nbformat": 4,
  "nbformat_minor": 0,
  "metadata": {
    "colab": {
      "provenance": [],
      "authorship_tag": "ABX9TyN8IOBWhatsvXbryiPmXTXo",
      "include_colab_link": true
    },
    "kernelspec": {
      "name": "python3",
      "display_name": "Python 3"
    },
    "language_info": {
      "name": "python"
    }
  },
  "cells": [
    {
      "cell_type": "markdown",
      "metadata": {
        "id": "view-in-github",
        "colab_type": "text"
      },
      "source": [
        "<a href=\"https://colab.research.google.com/github/Shubhamdiwakarkadam/100-Days-of-Python-Learning/blob/main/Day_1_introduction.ipynb\" target=\"_parent\"><img src=\"https://colab.research.google.com/assets/colab-badge.svg\" alt=\"Open In Colab\"/></a>"
      ]
    },
    {
      "cell_type": "markdown",
      "source": [
        "# **Day 1 - What is Programming and Python?**\n",
        "**What is Programming** <br>\n",
        "Programming is a way for us to tell computers what to do. Computer is a very dumb machine and it only does what we tell it to do. Hence we learn programming and tell computers to do what we are very slow at - computation. If I ask you to calculate 5+6, you will immediately say 11. How about 23453453 X 56456?\n",
        "\n",
        "You will start searching for a calculator or jump to a new tab to calculate the same. This 100 days of code series will help you learn python from starting to the end. We will start from 0 and by the time we end this course, I promise you will be a Job ready Python developer!\n",
        "\n",
        "# **What is Python?**\n",
        "Python is a dynamically typed, general purpose programming language that supports an object-oriented programming approach as well as a functional programming approach.<br>\n",
        "Python is an interpreted and a high-level programming language.<br>\n",
        "It was created by Guido Van Rossum in 1989.<br>\n",
        "# **Features of Python**\n",
        "Python is simple and easy to understand.<br>\n",
        "It is Interpreted and platform-independent which makes debugging very easy.<br>\n",
        "Python is an open-source programming language.<br>\n",
        "Python provides very big library support.<br> Some of the popular libraries include NumPy, Tensorflow, Selenium, OpenCV, etc.<br>\n",
        "It is possible to integrate other programming languages within python.\n",
        "# **What is Python used for**\n",
        "Python is used in Data Visualization to create plots and graphical representations.<br>\n",
        "Python helps in Data Analytics to analyze and understand raw data for insights and trends.<br>\n",
        "It is used in AI and Machine Learning to simulate human behavior and to learn from past data without hard coding.<br>\n",
        "It is used to create web applications.<br>\n",
        "It can be used to handle databases.<br>\n",
        "It is used in business and accounting to perform complex mathematical operations along with quantitative and qualitative analysis.\n"
      ],
      "metadata": {
        "id": "UOJS2F459Veg"
      }
    },
    {
      "cell_type": "code",
      "execution_count": null,
      "metadata": {
        "colab": {
          "base_uri": "https://localhost:8080/"
        },
        "id": "SPQ9cA2d9AZj",
        "outputId": "abba53d0-6206-4ed1-e387-aeba63387001"
      },
      "outputs": [
        {
          "output_type": "stream",
          "name": "stdout",
          "text": [
            "hello world\n"
          ]
        }
      ],
      "source": [
        "print(\"hello world\")"
      ]
    },
    {
      "cell_type": "code",
      "source": [
        "print(\"5\")"
      ],
      "metadata": {
        "colab": {
          "base_uri": "https://localhost:8080/"
        },
        "id": "WkbplTKF9LXJ",
        "outputId": "f50189de-7eee-410f-ee07-af288a7518d8"
      },
      "execution_count": null,
      "outputs": [
        {
          "output_type": "stream",
          "name": "stdout",
          "text": [
            "5\n"
          ]
        }
      ]
    },
    {
      "cell_type": "code",
      "source": [
        "print(23)"
      ],
      "metadata": {
        "colab": {
          "base_uri": "https://localhost:8080/"
        },
        "id": "6-hSlo5D9OPF",
        "outputId": "cc1bc3d1-3196-4012-8dc1-57361319a3fa"
      },
      "execution_count": null,
      "outputs": [
        {
          "output_type": "stream",
          "name": "stdout",
          "text": [
            "23\n"
          ]
        }
      ]
    }
  ]
}