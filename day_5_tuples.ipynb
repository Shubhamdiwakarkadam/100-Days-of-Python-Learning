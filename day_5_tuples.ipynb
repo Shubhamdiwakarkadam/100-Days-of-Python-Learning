{
  "nbformat": 4,
  "nbformat_minor": 0,
  "metadata": {
    "colab": {
      "provenance": [],
      "authorship_tag": "ABX9TyNo60/BCrvxYYwyr3RWhjtP",
      "include_colab_link": true
    },
    "kernelspec": {
      "name": "python3",
      "display_name": "Python 3"
    },
    "language_info": {
      "name": "python"
    }
  },
  "cells": [
    {
      "cell_type": "markdown",
      "metadata": {
        "id": "view-in-github",
        "colab_type": "text"
      },
      "source": [
        "<a href=\"https://colab.research.google.com/github/Shubhamdiwakarkadam/100-Days-of-Python-Learning/blob/main/day_5_tuples.ipynb\" target=\"_parent\"><img src=\"https://colab.research.google.com/assets/colab-badge.svg\" alt=\"Open In Colab\"/></a>"
      ]
    },
    {
      "cell_type": "markdown",
      "source": [
        "**TUPLE**\n",
        "\n",
        "They are used to store multiple items in a single variable\n",
        "\n",
        "a tupe is a collection which is ordered and unchanged .\n",
        "it is return with the round bracket"
      ],
      "metadata": {
        "id": "dMwIy9JkQzsQ"
      }
    },
    {
      "cell_type": "code",
      "execution_count": 1,
      "metadata": {
        "colab": {
          "base_uri": "https://localhost:8080/"
        },
        "id": "zMj-vZJdQrqb",
        "outputId": "8e7158a4-9321-4ab8-b3ed-c6e7b0267303"
      },
      "outputs": [
        {
          "output_type": "stream",
          "name": "stdout",
          "text": [
            "('shubham', 'sujal', 'arhanat')\n"
          ]
        }
      ],
      "source": [
        "fruits = (\"shubham\", \"sujal\", \"arhanat\")  #basic method\n",
        "print(fruits)"
      ]
    },
    {
      "cell_type": "code",
      "source": [
        "fruits = (\"shubham\", \"sujal\", \"shubham\",\"arhanat\")  #Allows duplicates\n",
        "print(fruits)"
      ],
      "metadata": {
        "colab": {
          "base_uri": "https://localhost:8080/"
        },
        "id": "47yAYGf2SGkE",
        "outputId": "aa463e61-cef9-4f1e-9bb9-06ed15fc17d0"
      },
      "execution_count": 3,
      "outputs": [
        {
          "output_type": "stream",
          "name": "stdout",
          "text": [
            "('shubham', 'sujal', 'shubham', 'arhanat')\n"
          ]
        }
      ]
    },
    {
      "cell_type": "code",
      "source": [
        "#count method\n",
        "\n",
        "nums = (1,5,6,9,8,7,5,4,8,6,5,1,4,5,6,9,8,7,6,5,4,5,6,4,7,8,5,4,5,8,7,4)\n",
        "\n",
        "nums.count(5)"
      ],
      "metadata": {
        "colab": {
          "base_uri": "https://localhost:8080/"
        },
        "id": "mq8vzW-ASlFi",
        "outputId": "1f7acb34-5acb-40b8-ae96-9491bfdc2f61"
      },
      "execution_count": 4,
      "outputs": [
        {
          "output_type": "execute_result",
          "data": {
            "text/plain": [
              "8"
            ]
          },
          "metadata": {},
          "execution_count": 4
        }
      ]
    },
    {
      "cell_type": "code",
      "source": [
        "#Index method\n",
        "\n",
        "nums = (1,5,6,9,8,7,5,4,8,6,5,1,4,2,5,6,9,8,7,6,5,4,5,6,4,7,8,5,4,5,8,7,4)\n",
        "\n",
        "nums.index(2)"
      ],
      "metadata": {
        "colab": {
          "base_uri": "https://localhost:8080/"
        },
        "id": "962n2kEcS23h",
        "outputId": "c827928d-469d-4e1e-ba53-b277000f8745"
      },
      "execution_count": 6,
      "outputs": [
        {
          "output_type": "execute_result",
          "data": {
            "text/plain": [
              "13"
            ]
          },
          "metadata": {},
          "execution_count": 6
        }
      ]
    },
    {
      "cell_type": "code",
      "source": [
        "#MIN & MAX method\n",
        "\n",
        "\n",
        "nums = (1,5,6,9,8,7,5,4,8,6,5,1,4,2,5,6,9,8,7,6,5,4,5,6,4,7,8,5,4,5,8,7,4)\n",
        "\n",
        "min(nums)\n",
        "\n"
      ],
      "metadata": {
        "colab": {
          "base_uri": "https://localhost:8080/"
        },
        "id": "jmk8Z_AtTCO7",
        "outputId": "764c1a93-6a8b-4cdf-d265-816e361a31e2"
      },
      "execution_count": 9,
      "outputs": [
        {
          "output_type": "execute_result",
          "data": {
            "text/plain": [
              "1"
            ]
          },
          "metadata": {},
          "execution_count": 9
        }
      ]
    },
    {
      "cell_type": "code",
      "source": [
        "max(nums)\n"
      ],
      "metadata": {
        "colab": {
          "base_uri": "https://localhost:8080/"
        },
        "id": "ucExPkKqTj_y",
        "outputId": "6a2881f4-d34e-4b08-a985-ec032003a770"
      },
      "execution_count": 8,
      "outputs": [
        {
          "output_type": "execute_result",
          "data": {
            "text/plain": [
              "9"
            ]
          },
          "metadata": {},
          "execution_count": 8
        }
      ]
    }
  ]
}